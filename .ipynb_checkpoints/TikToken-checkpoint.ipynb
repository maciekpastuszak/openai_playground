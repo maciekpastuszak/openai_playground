{
 "cells": [
  {
   "cell_type": "code",
   "execution_count": 1,
   "id": "bb7b1c9b",
   "metadata": {},
   "outputs": [],
   "source": [
    "import tiktoken"
   ]
  },
  {
   "cell_type": "code",
   "execution_count": 6,
   "id": "613c1ea8",
   "metadata": {},
   "outputs": [],
   "source": [
    "#enc = tiktoken.get_encoding(\"p50k_base\")\n",
    "enc = tiktoken.encoding_for_model(\"gpt-4\")"
   ]
  },
  {
   "cell_type": "code",
   "execution_count": 3,
   "id": "b04079c1",
   "metadata": {},
   "outputs": [
    {
     "data": {
      "text/plain": [
       "[28254, 79, 995, 0]"
      ]
     },
     "execution_count": 3,
     "metadata": {},
     "output_type": "execute_result"
    }
   ],
   "source": [
    "len(enc.encode(\"Hellp world!\"))"
   ]
  },
  {
   "cell_type": "code",
   "execution_count": 4,
   "id": "ada048c0",
   "metadata": {},
   "outputs": [],
   "source": [
    "book_text = \"\"\"\n",
    "Litwo! Ojczyzno moja! ty jesteś jak zdrowie.\n",
    "\n",
    "Ile cię trzeba cenić, ten tylko się dowie,\n",
    "\n",
    "Kto cię stracił. Dziś piękność twą w całej ozdobie\n",
    "\n",
    "Widzę i opisuję, bo tęsknię po tobie.\n",
    "\n",
    " \n",
    "\n",
    "Panno Święta, co Jasnej bronisz Częstochowy\n",
    "\n",
    "I w Ostrej świecisz Bramie! Ty, co gród zamkowy\n",
    "\n",
    "Nowogródzki ochraniasz z jego wiernym ludem!\n",
    "\n",
    "Jak mnie dziecko do zdrowia powróciłaś cudem\n",
    "\n",
    "(Gdy od płaczącej matki pod Twoję opiekę\n",
    "\n",
    "Ofiarowany, martwą podniosłem powiekę\n",
    "\n",
    "I zaraz mogłem pieszo do Twych świątyń progu\n",
    "\n",
    "Iść za wrócone życie podziękować Bogu),\n",
    "\n",
    "Tak nas powrócisz cudem na Ojczyzny łono.\n",
    "\n",
    "Tymczasem przenoś moję duszę utęsknioną\n",
    "\n",
    "Do tych pagórków leśnych, do tych łąk zielonych,\n",
    "\n",
    "Szeroko nad błękitnym Niemnem rozciągnionych;\n",
    "\n",
    "Do tych pól malowanych zbożem rozmaitem,\n",
    "\n",
    "Wyzłacanych pszenicą, posrebrzanych żytem;\n",
    "\n",
    "Gdzie bursztynowy świerzop, gryka jak śnieg biała,\n",
    "\n",
    "Gdzie panieńskim rumieńcem dzięcielina pała,\n",
    "\n",
    "A wszystko przepasane, jakby wstęgą, miedzą\n",
    "\n",
    "Zieloną, na niej z rzadka ciche grusze siedzą.\n",
    "\"\"\""
   ]
  },
  {
   "cell_type": "code",
   "execution_count": 5,
   "id": "6bdaa81b",
   "metadata": {},
   "outputs": [
    {
     "data": {
      "text/plain": [
       "594"
      ]
     },
     "execution_count": 5,
     "metadata": {},
     "output_type": "execute_result"
    }
   ],
   "source": [
    "len(enc.encode(book_text))"
   ]
  },
  {
   "cell_type": "code",
   "execution_count": 7,
   "id": "587d30f0",
   "metadata": {},
   "outputs": [],
   "source": [
    "def num_tokens_from_string(string: str, model_name: str) -> int:\n",
    "    \"\"\"Returns the number of tokens in a text string\"\"\"\n",
    "    encoding = tiktoken.encoding_for_model(model_name)\n",
    "    num_tokens = len(encoding.encode(string))\n",
    "    return num_tokens"
   ]
  }
 ],
 "metadata": {
  "kernelspec": {
   "display_name": "Python 3 (ipykernel)",
   "language": "python",
   "name": "python3"
  },
  "language_info": {
   "codemirror_mode": {
    "name": "ipython",
    "version": 3
   },
   "file_extension": ".py",
   "mimetype": "text/x-python",
   "name": "python",
   "nbconvert_exporter": "python",
   "pygments_lexer": "ipython3",
   "version": "3.11.3"
  }
 },
 "nbformat": 4,
 "nbformat_minor": 5
}
